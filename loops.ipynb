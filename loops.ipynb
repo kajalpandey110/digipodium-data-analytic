{
  "nbformat": 4,
  "nbformat_minor": 0,
  "metadata": {
    "colab": {
      "provenance": [],
      "authorship_tag": "ABX9TyN2wj30KHWOk/rASc53BzqT",
      "include_colab_link": true
    },
    "kernelspec": {
      "name": "python3",
      "display_name": "Python 3"
    },
    "language_info": {
      "name": "python"
    }
  },
  "cells": [
    {
      "cell_type": "markdown",
      "metadata": {
        "id": "view-in-github",
        "colab_type": "text"
      },
      "source": [
        "<a href=\"https://colab.research.google.com/github/kajalpandey110/digipodium-data-analytic/blob/main/loops.ipynb\" target=\"_parent\"><img src=\"https://colab.research.google.com/assets/colab-badge.svg\" alt=\"Open In Colab\"/></a>"
      ]
    },
    {
      "cell_type": "code",
      "source": [
        "movies=['shrek','kungu fu panda','ddlj','the jumgle book','doraemon','alladin','lion king','harry potter','coco','little princess']\n",
        "print(f'total movies={len(movies)}')"
      ],
      "metadata": {
        "colab": {
          "base_uri": "https://localhost:8080/"
        },
        "id": "rEo_tGqUQXAi",
        "outputId": "ee9d5e79-3713-49e4-e7b7-427170aed133"
      },
      "execution_count": 6,
      "outputs": [
        {
          "output_type": "stream",
          "name": "stdout",
          "text": [
            "total movies=10\n"
          ]
        }
      ]
    },
    {
      "cell_type": "code",
      "source": [
        "for movie in movies:\n",
        "  print(movie,len(movie))"
      ],
      "metadata": {
        "colab": {
          "base_uri": "https://localhost:8080/"
        },
        "id": "rM7ZrM02RtHg",
        "outputId": "6b55725e-dcdb-4ca1-baa9-bd8fdcdd9c50"
      },
      "execution_count": 8,
      "outputs": [
        {
          "output_type": "stream",
          "name": "stdout",
          "text": [
            "shrek 5\n",
            "kungu fu panda 14\n",
            "ddlj 4\n",
            "the jumgle book 15\n",
            "doraemon 8\n",
            "alladin 7\n",
            "lion king 9\n",
            "harry potter 12\n",
            "coco 4\n",
            "little princess 15\n"
          ]
        }
      ]
    },
    {
      "cell_type": "code",
      "source": [
        "for movie in movies:\n",
        "    print(f'{movie:50}{len(movie)}')"
      ],
      "metadata": {
        "colab": {
          "base_uri": "https://localhost:8080/"
        },
        "id": "MfoqHOVJTA97",
        "outputId": "4dfaca9e-5b0d-4e02-8314-a7f6946d2535"
      },
      "execution_count": 13,
      "outputs": [
        {
          "output_type": "stream",
          "name": "stdout",
          "text": [
            "shrek                                             5\n",
            "kungu fu panda                                    14\n",
            "ddlj                                              4\n",
            "the jumgle book                                   15\n",
            "doraemon                                          8\n",
            "alladin                                           7\n",
            "lion king                                         9\n",
            "harry potter                                      12\n",
            "coco                                              4\n",
            "little princess                                   15\n"
          ]
        }
      ]
    },
    {
      "cell_type": "code",
      "source": [
        "nums=[32,56,23,56,12,12,67,56,7,2]\n",
        "for i in nums:\n",
        "  print(i,'=',i**2)"
      ],
      "metadata": {
        "colab": {
          "base_uri": "https://localhost:8080/"
        },
        "id": "9jIwon21TZaS",
        "outputId": "863ed0f3-a3ee-4651-8e93-5551aee59c63"
      },
      "execution_count": 18,
      "outputs": [
        {
          "output_type": "stream",
          "name": "stdout",
          "text": [
            "32 = 1024\n",
            "56 = 3136\n",
            "23 = 529\n",
            "56 = 3136\n",
            "12 = 144\n",
            "12 = 144\n",
            "67 = 4489\n",
            "56 = 3136\n",
            "7 = 49\n",
            "2 = 4\n"
          ]
        }
      ]
    },
    {
      "cell_type": "code",
      "source": [
        "for i in nums:\n",
        "  if i%2==0:\n",
        "    print(i,'=',i**2)"
      ],
      "metadata": {
        "colab": {
          "base_uri": "https://localhost:8080/"
        },
        "id": "pgkfzyOfUC_C",
        "outputId": "194868fa-7700-4bcb-f7e3-4587296f15c9"
      },
      "execution_count": 24,
      "outputs": [
        {
          "output_type": "stream",
          "name": "stdout",
          "text": [
            "32 = 1024\n",
            "56 = 3136\n",
            "56 = 3136\n",
            "12 = 144\n",
            "12 = 144\n",
            "56 = 3136\n",
            "2 = 4\n"
          ]
        }
      ]
    },
    {
      "cell_type": "code",
      "source": [
        "sum(nums)"
      ],
      "metadata": {
        "colab": {
          "base_uri": "https://localhost:8080/"
        },
        "id": "H1CiErgPU5Y8",
        "outputId": "a5c9891a-1ea3-4986-fd5a-cf1a8372bfd1"
      },
      "execution_count": 25,
      "outputs": [
        {
          "output_type": "execute_result",
          "data": {
            "text/plain": [
              "323"
            ]
          },
          "metadata": {},
          "execution_count": 25
        }
      ]
    },
    {
      "cell_type": "code",
      "source": [
        "total_evens=0\n",
        "for i in nums:\n",
        "  if i%2==0:\n",
        "    total_evens +=i\n",
        "print(total_evens)"
      ],
      "metadata": {
        "colab": {
          "base_uri": "https://localhost:8080/"
        },
        "id": "rzaico2iVkGz",
        "outputId": "464dd35f-006e-4576-9304-a56f20898fb8"
      },
      "execution_count": 27,
      "outputs": [
        {
          "output_type": "stream",
          "name": "stdout",
          "text": [
            "226\n"
          ]
        }
      ]
    },
    {
      "cell_type": "code",
      "source": [
        "for i in nums:\n",
        "  print(i)\n",
        "  if i>60:\n",
        "    break"
      ],
      "metadata": {
        "colab": {
          "base_uri": "https://localhost:8080/"
        },
        "id": "2qFJSrbWVigr",
        "outputId": "b08f8eed-7ab8-464b-dc70-504db498f543"
      },
      "execution_count": 28,
      "outputs": [
        {
          "output_type": "stream",
          "name": "stdout",
          "text": [
            "32\n",
            "56\n",
            "23\n",
            "56\n",
            "12\n",
            "12\n",
            "67\n"
          ]
        }
      ]
    },
    {
      "cell_type": "code",
      "source": [
        "x=['apple','potato','banana','','orange','mango']\n",
        "for item in x:\n",
        "  if  len(item)==0:\n",
        "    break\n",
        "  print(item)"
      ],
      "metadata": {
        "colab": {
          "base_uri": "https://localhost:8080/"
        },
        "id": "j06JMy7wXG01",
        "outputId": "4d2309bf-ce6f-4d84-d288-667c2dbb07ad"
      },
      "execution_count": 31,
      "outputs": [
        {
          "output_type": "stream",
          "name": "stdout",
          "text": [
            "apple\n",
            "potato\n",
            "banana\n"
          ]
        }
      ]
    },
    {
      "cell_type": "code",
      "source": [
        "errors=0\n",
        "while True:\n",
        "  username=input('enter username :')\n",
        "  password =input('enter password :')\n",
        "  if username =='admin' and password=='secret':\n",
        "    print('login successful')\n",
        "    break\n",
        "  elif errors == 3:\n",
        "      print('too many errors')\n",
        "      break\n",
        "  else:\n",
        "      print('invalid username/password')\n",
        "  errors += 1\n"
      ],
      "metadata": {
        "colab": {
          "base_uri": "https://localhost:8080/"
        },
        "id": "kK1Sne_9X3U-",
        "outputId": "57e68d12-0f5f-4689-cfd0-b354918a61ba"
      },
      "execution_count": 38,
      "outputs": [
        {
          "output_type": "stream",
          "name": "stdout",
          "text": [
            "enter username :kajal\n",
            "enter password :1234\n",
            "invalid username/password\n",
            "enter username :kajal\n",
            "enter password :345\n",
            "invalid username/password\n",
            "enter username :admin\n",
            "enter password :secret\n",
            "login successful\n"
          ]
        }
      ]
    },
    {
      "cell_type": "code",
      "source": [],
      "metadata": {
        "id": "hwY_92rYZtmY"
      },
      "execution_count": null,
      "outputs": []
    }
  ]
}