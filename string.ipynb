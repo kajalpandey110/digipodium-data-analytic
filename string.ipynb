{
  "nbformat": 4,
  "nbformat_minor": 0,
  "metadata": {
    "colab": {
      "provenance": [],
      "authorship_tag": "ABX9TyNuyWgcC83JQvLPYVZ9c/W2",
      "include_colab_link": true
    },
    "kernelspec": {
      "name": "python3",
      "display_name": "Python 3"
    },
    "language_info": {
      "name": "python"
    }
  },
  "cells": [
    {
      "cell_type": "markdown",
      "metadata": {
        "id": "view-in-github",
        "colab_type": "text"
      },
      "source": [
        "<a href=\"https://colab.research.google.com/github/kajalpandey110/digipodium-data-analytic/blob/main/string.ipynb\" target=\"_parent\"><img src=\"https://colab.research.google.com/assets/colab-badge.svg\" alt=\"Open In Colab\"/></a>"
      ]
    },
    {
      "cell_type": "code",
      "execution_count": null,
      "metadata": {
        "colab": {
          "base_uri": "https://localhost:8080/"
        },
        "id": "cjSHMSmp9UZ7",
        "outputId": "15d3674c-7906-4c16-b303-81c4e877bc03"
      },
      "outputs": [
        {
          "output_type": "stream",
          "name": "stdout",
          "text": [
            "1\n"
          ]
        }
      ],
      "source": [
        "#string is a sequence of characters.\n",
        "#initialise the string\n",
        "#typecasting\n",
        "\n",
        "s=''\n",
        "b=1\n",
        "print(str(b))"
      ]
    },
    {
      "cell_type": "code",
      "source": [
        "#length\n",
        "s='kajal  pandey'\n",
        "print(len(s))"
      ],
      "metadata": {
        "colab": {
          "base_uri": "https://localhost:8080/"
        },
        "id": "t6M1gMqw9uKZ",
        "outputId": "44d864a1-f05c-4489-a512-ddc20e60292b"
      },
      "execution_count": null,
      "outputs": [
        {
          "output_type": "stream",
          "name": "stdout",
          "text": [
            "13\n"
          ]
        }
      ]
    },
    {
      "cell_type": "code",
      "source": [
        "#indexing both positive and negative\n",
        "print(s[2])\n",
        "for i in range(len(s)):\n",
        "  print(i,s[i])"
      ],
      "metadata": {
        "colab": {
          "base_uri": "https://localhost:8080/"
        },
        "id": "a8CFsVpS98sf",
        "outputId": "641c9332-f281-43e1-afb4-a6de4977301e"
      },
      "execution_count": null,
      "outputs": [
        {
          "output_type": "stream",
          "name": "stdout",
          "text": [
            "j\n",
            "0 k\n",
            "1 a\n",
            "2 j\n",
            "3 a\n",
            "4 l\n",
            "5  \n",
            "6  \n",
            "7 p\n",
            "8 a\n",
            "9 n\n",
            "10 d\n",
            "11 e\n",
            "12 y\n"
          ]
        }
      ]
    },
    {
      "cell_type": "code",
      "source": [
        "#slicing\n",
        "print(s[:])\n",
        "print(s[:5])\n",
        "print(s[5:])"
      ],
      "metadata": {
        "colab": {
          "base_uri": "https://localhost:8080/"
        },
        "id": "9IeKEFa1-nVE",
        "outputId": "44827241-d553-4da0-c24d-a101a247c723"
      },
      "execution_count": null,
      "outputs": [
        {
          "output_type": "stream",
          "name": "stdout",
          "text": [
            "kajal  pandey\n",
            "kajal\n",
            "  pandey\n"
          ]
        }
      ]
    },
    {
      "cell_type": "code",
      "source": [
        "poem='''rain rain go away,\n",
        "come again another day.\n",
        "little johny wants to play,\n",
        "rain rain go away.'''\n",
        "print(poem)\n",
        "print('-x-'*10)\n",
        "print(len(poem),'num of characters')\n",
        "print(len(poem.split()),'num of words')\n",
        "print(len(poem.splitlines()),'num of lines')\n"
      ],
      "metadata": {
        "id": "F-e7JR6tAaxc",
        "colab": {
          "base_uri": "https://localhost:8080/"
        },
        "outputId": "a042ecd3-9d80-484e-a731-8bd025c0893e"
      },
      "execution_count": 1,
      "outputs": [
        {
          "output_type": "stream",
          "name": "stdout",
          "text": [
            "rain rain go away,\n",
            "come again another day.\n",
            "little johny wants to play,\n",
            "rain rain go away.\n",
            "-x--x--x--x--x--x--x--x--x--x-\n",
            "89 num of characters\n",
            "17 num of words\n",
            "4 num of lines\n"
          ]
        }
      ]
    },
    {
      "cell_type": "code",
      "source": [
        "poem.count('johny')\n",
        "print(poem.upper())\n",
        "print(poem.lower())\n",
        "print(poem.title())\n",
        "print(poem.capitalize())\n",
        "print(poem.swapcase())"
      ],
      "metadata": {
        "colab": {
          "base_uri": "https://localhost:8080/"
        },
        "id": "aPyM3j6fF1y7",
        "outputId": "7fbe7374-157f-449a-f496-1d6a3cc42446"
      },
      "execution_count": 5,
      "outputs": [
        {
          "output_type": "stream",
          "name": "stdout",
          "text": [
            "RAIN RAIN GO AWAY,\n",
            "COME AGAIN ANOTHER DAY.\n",
            "LITTLE JOHNY WANTS TO PLAY,\n",
            "RAIN RAIN GO AWAY.\n",
            "rain rain go away,\n",
            "come again another day.\n",
            "little johny wants to play,\n",
            "rain rain go away.\n",
            "Rain Rain Go Away,\n",
            "Come Again Another Day.\n",
            "Little Johny Wants To Play,\n",
            "Rain Rain Go Away.\n",
            "Rain rain go away,\n",
            "come again another day.\n",
            "little johny wants to play,\n",
            "rain rain go away.\n",
            "RAIN RAIN GO AWAY,\n",
            "COME AGAIN ANOTHER DAY.\n",
            "LITTLE JOHNY WANTS TO PLAY,\n",
            "RAIN RAIN GO AWAY.\n"
          ]
        }
      ]
    },
    {
      "cell_type": "code",
      "source": [
        "a='apple'\n",
        "b='290'\n",
        "c='apple100'\n",
        "print(a,a.isnumeric())\n",
        "print(a,a.isalpha())\n",
        "print(a,a.isalnum())\n",
        "print(b,b.isnumeric())\n",
        "print(b,b.isalpha())\n",
        "print(b,b.isalnum())\n",
        "print(c,c.isnumeric())\n",
        "print(c,c.isalpha())\n",
        "print(c,c.isalnum())\n",
        "\n"
      ],
      "metadata": {
        "colab": {
          "base_uri": "https://localhost:8080/"
        },
        "id": "wjGQ5gXrF6uV",
        "outputId": "09a32d06-a94d-4900-d4c6-2220a23f1ad4"
      },
      "execution_count": 8,
      "outputs": [
        {
          "output_type": "stream",
          "name": "stdout",
          "text": [
            "apple False\n",
            "apple True\n",
            "apple True\n",
            "290 True\n",
            "290 False\n",
            "290 True\n",
            "apple100 False\n",
            "apple100 False\n",
            "apple100 True\n"
          ]
        }
      ]
    },
    {
      "cell_type": "code",
      "source": [],
      "metadata": {
        "id": "ULypC8RqGW7O"
      },
      "execution_count": null,
      "outputs": []
    }
  ]
}