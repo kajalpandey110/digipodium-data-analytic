{
  "cells": [
    {
      "cell_type": "markdown",
      "metadata": {
        "id": "view-in-github",
        "colab_type": "text"
      },
      "source": [
        "<a href=\"https://colab.research.google.com/github/kajalpandey110/digipodium-data-analytic/blob/main/io.ipynb\" target=\"_parent\"><img src=\"https://colab.research.google.com/assets/colab-badge.svg\" alt=\"Open In Colab\"/></a>"
      ]
    },
    {
      "cell_type": "code",
      "execution_count": null,
      "metadata": {
        "colab": {
          "base_uri": "https://localhost:8080/"
        },
        "id": "fpTlCZgvu8JT",
        "outputId": "772772b1-7bfb-4432-c81a-7ca904c52215"
      },
      "outputs": [
        {
          "name": "stdout",
          "output_type": "stream",
          "text": [
            "Kajal pandey\n"
          ]
        }
      ],
      "source": [
        "name=\"Kajal pandey\"\n",
        "print(name)"
      ]
    },
    {
      "cell_type": "markdown",
      "source": [],
      "metadata": {
        "id": "aTbSQwTe1P8P"
      }
    },
    {
      "cell_type": "code",
      "execution_count": null,
      "metadata": {
        "colab": {
          "base_uri": "https://localhost:8080/"
        },
        "id": "wmyXMJqqxEZO",
        "outputId": "172f9de8-0ba0-4789-84c8-e51e41142c93"
      },
      "outputs": [
        {
          "name": "stdout",
          "output_type": "stream",
          "text": [
            "enter your citylucknow\n"
          ]
        }
      ],
      "source": [
        "city=input('enter your city')"
      ]
    },
    {
      "cell_type": "code",
      "execution_count": null,
      "metadata": {
        "colab": {
          "base_uri": "https://localhost:8080/"
        },
        "id": "15N13hElyMY9",
        "outputId": "d714f521-2de4-42b0-d87d-726497a435dd"
      },
      "outputs": [
        {
          "name": "stdout",
          "output_type": "stream",
          "text": [
            "enter name LBSGCM\n",
            "which course BCA\n",
            "enter iq level 87\n",
            "Kajal pandey\n",
            "lucknow\n",
            "LBSGCM\n",
            "BCA\n",
            "87\n"
          ]
        }
      ],
      "source": [
        "college=input('enter name ')\n",
        "course=input('which course ')\n",
        "iq=input('enter iq level ')\n",
        "print(name,city,college,course,iq, sep='\\n')"
      ]
    },
    {
      "cell_type": "code",
      "execution_count": null,
      "metadata": {
        "colab": {
          "base_uri": "https://localhost:8080/",
          "height": 35
        },
        "id": "OK7NVQJUzFXd",
        "outputId": "197e10a9-04dd-481c-b2aa-dcd8602d92e2"
      },
      "outputs": [
        {
          "data": {
            "application/vnd.google.colaboratory.intrinsic+json": {
              "type": "string"
            },
            "text/plain": [
              "'hellolucknow'"
            ]
          },
          "execution_count": 9,
          "metadata": {},
          "output_type": "execute_result"
        }
      ],
      "source": [
        "F'hello{city}'"
      ]
    },
    {
      "cell_type": "code",
      "execution_count": null,
      "metadata": {
        "colab": {
          "base_uri": "https://localhost:8080/"
        },
        "id": "BpnMx4bK4uDc",
        "outputId": "0c255e81-4a0a-44c6-d7b5-852f8bc06ec3"
      },
      "outputs": [
        {
          "name": "stdout",
          "output_type": "stream",
          "text": [
            "hii,i am Kajal pandey\n",
            "I live in lucknow\n",
            "I study in LBSGCM\n",
            "i am in BCA\n",
            "my iq is 87\n"
          ]
        }
      ],
      "source": [
        "print(f'hii,i am {name}')\n",
        "print(f'I live in {city}')\n",
        "print(f'I study in {college}')\n",
        "print(f'i am in {course}')\n",
        "print(f'my iq is {iq}')"
      ]
    },
    {
      "cell_type": "code",
      "execution_count": null,
      "metadata": {
        "colab": {
          "background_save": true
        },
        "id": "e5OIFHcK5WLE",
        "outputId": "f3b2512f-cd91-4d4c-9ac0-e08011ae082d"
      },
      "outputs": [
        {
          "name": "stdout",
          "output_type": "stream",
          "text": [
            "hi,i am Kajal pandey and i live in lucknow and i study inLBSGCM and i am in courseBCA and my iq is87\n"
          ]
        }
      ],
      "source": [
        "print(f'hi,i am {name} and i live in {city}')\n",
        "\n"
      ]
    },
    {
      "cell_type": "code",
      "execution_count": null,
      "metadata": {
        "id": "E6wgVQYs6e9D"
      },
      "outputs": [],
      "source": []
    }
  ],
  "metadata": {
    "colab": {
      "provenance": [],
      "authorship_tag": "ABX9TyO8rWYV0JWaQoz1k767p1/1",
      "include_colab_link": true
    },
    "kernelspec": {
      "display_name": "Python 3",
      "name": "python3"
    },
    "language_info": {
      "name": "python"
    }
  },
  "nbformat": 4,
  "nbformat_minor": 0
}