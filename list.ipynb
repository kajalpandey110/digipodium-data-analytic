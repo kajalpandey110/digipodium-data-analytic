{
  "nbformat": 4,
  "nbformat_minor": 0,
  "metadata": {
    "colab": {
      "provenance": [],
      "authorship_tag": "ABX9TyNuo4R/iXISMLIT1bcKoocX",
      "include_colab_link": true
    },
    "kernelspec": {
      "name": "python3",
      "display_name": "Python 3"
    },
    "language_info": {
      "name": "python"
    }
  },
  "cells": [
    {
      "cell_type": "markdown",
      "metadata": {
        "id": "view-in-github",
        "colab_type": "text"
      },
      "source": [
        "<a href=\"https://colab.research.google.com/github/kajalpandey110/digipodium-data-analytic/blob/main/list.ipynb\" target=\"_parent\"><img src=\"https://colab.research.google.com/assets/colab-badge.svg\" alt=\"Open In Colab\"/></a>"
      ]
    },
    {
      "cell_type": "code",
      "execution_count": null,
      "metadata": {
        "id": "RgRv64c3myh_"
      },
      "outputs": [],
      "source": [
        "# list of strings\n",
        "list1=[\"niklesh\",\"aman\",\"rahul\",\"devansh\",\"rishabh\"]\n",
        "\n",
        "# list of numbers\n",
        "list2=[1,2,3,4,5,15,25,100]\n",
        "\n",
        "#mixed data list\n",
        "list3=['ravi',90,102,93,29,44,\"B\",False,5.786]\n",
        "\n",
        "#nested list\n",
        "list4=[[1,2,3],[3,4,5,7],[2,1]]"
      ]
    },
    {
      "cell_type": "code",
      "source": [
        "L=[10,20,30,40,50,60,70,80,90,100]\n",
        "sliceL=L[-7:-2]\n",
        "print(sliceL)"
      ],
      "metadata": {
        "colab": {
          "base_uri": "https://localhost:8080/"
        },
        "id": "p3ur2mbhxKHt",
        "outputId": "29a3885c-3126-42ed-fe38-faaf0d2f4f59"
      },
      "execution_count": null,
      "outputs": [
        {
          "output_type": "stream",
          "name": "stdout",
          "text": [
            "[40, 50, 60, 70, 80]\n"
          ]
        }
      ]
    },
    {
      "cell_type": "code",
      "source": [
        "L=[10,20,30,40,50,60,70,80,90,100]\n",
        "slice1=l[5:]\n",
        "slice2=l[5:len(L)]\n",
        "print(slice1)\n",
        "print(slice2)"
      ],
      "metadata": {
        "colab": {
          "base_uri": "https://localhost:8080/"
        },
        "id": "cvcuufMezBgW",
        "outputId": "09e9e172-6437-4978-ba9b-7b1625502e3f"
      },
      "execution_count": null,
      "outputs": [
        {
          "output_type": "stream",
          "name": "stdout",
          "text": [
            "[60, 70, 80, 90, 100]\n",
            "[60, 70, 80, 90, 100]\n"
          ]
        }
      ]
    },
    {
      "cell_type": "code",
      "source": [
        "list1=[1,2,3,'a','b']\n",
        "#append\n",
        "list1.append('c')\n",
        "list1.append('d')\n",
        "print(list1)"
      ],
      "metadata": {
        "colab": {
          "base_uri": "https://localhost:8080/"
        },
        "id": "eyL0_2ku0ZIf",
        "outputId": "adf1f966-0e95-4b0c-c87c-0a03e9b03e78"
      },
      "execution_count": null,
      "outputs": [
        {
          "output_type": "stream",
          "name": "stdout",
          "text": [
            "[1, 2, 3, 'a', 'b', 'c', 'd']\n"
          ]
        }
      ]
    },
    {
      "cell_type": "code",
      "source": [
        "list1.insert(4,'e')\n",
        "print(list1)"
      ],
      "metadata": {
        "colab": {
          "base_uri": "https://localhost:8080/"
        },
        "id": "cor6bCht3Kuz",
        "outputId": "3235896c-990d-4824-864d-5dc28319ec09"
      },
      "execution_count": null,
      "outputs": [
        {
          "output_type": "stream",
          "name": "stdout",
          "text": [
            "['e', 1, 'e', 2, 'e', 3, 'a', 'b', 'c', 'd']\n"
          ]
        }
      ]
    },
    {
      "cell_type": "code",
      "source": [
        "arr=[1,2,3,'kajal']\n",
        "arr.append('pandey')\n",
        "print(arr)"
      ],
      "metadata": {
        "id": "P2K-Mmfz3q-X",
        "colab": {
          "base_uri": "https://localhost:8080/"
        },
        "outputId": "42347371-b4c6-4913-efe6-7c7261ee2f6b"
      },
      "execution_count": 3,
      "outputs": [
        {
          "output_type": "stream",
          "name": "stdout",
          "text": [
            "[1, 2, 3, 'kajal', 'pandey']\n"
          ]
        }
      ]
    },
    {
      "cell_type": "code",
      "source": [
        "# insert (idx,value)\n",
        "arr.insert(1,'python')\n",
        "print(arr)"
      ],
      "metadata": {
        "colab": {
          "base_uri": "https://localhost:8080/",
          "height": 235
        },
        "id": "jNR9wDUjzYhO",
        "outputId": "23c82f7e-2d2b-43ad-a1ab-be7331caec65"
      },
      "execution_count": 22,
      "outputs": [
        {
          "output_type": "stream",
          "name": "stdout",
          "text": [
            "['python']\n"
          ]
        },
        {
          "output_type": "error",
          "ename": "ValueError",
          "evalue": "ignored",
          "traceback": [
            "\u001b[0;31m---------------------------------------------------------------------------\u001b[0m",
            "\u001b[0;31mValueError\u001b[0m                                Traceback (most recent call last)",
            "\u001b[0;32m<ipython-input-22-188e6e1f42cf>\u001b[0m in \u001b[0;36m<cell line: 4>\u001b[0;34m()\u001b[0m\n\u001b[1;32m      2\u001b[0m \u001b[0marr\u001b[0m\u001b[0;34m.\u001b[0m\u001b[0minsert\u001b[0m\u001b[0;34m(\u001b[0m\u001b[0;36m1\u001b[0m\u001b[0;34m,\u001b[0m\u001b[0;34m'python'\u001b[0m\u001b[0;34m)\u001b[0m\u001b[0;34m\u001b[0m\u001b[0;34m\u001b[0m\u001b[0m\n\u001b[1;32m      3\u001b[0m \u001b[0mprint\u001b[0m\u001b[0;34m(\u001b[0m\u001b[0marr\u001b[0m\u001b[0;34m)\u001b[0m\u001b[0;34m\u001b[0m\u001b[0;34m\u001b[0m\u001b[0m\n\u001b[0;32m----> 4\u001b[0;31m \u001b[0marr\u001b[0m\u001b[0;34m.\u001b[0m\u001b[0mremove\u001b[0m\u001b[0;34m(\u001b[0m\u001b[0;34m\"kajal\"\u001b[0m\u001b[0;34m)\u001b[0m\u001b[0;34m\u001b[0m\u001b[0;34m\u001b[0m\u001b[0m\n\u001b[0m\u001b[1;32m      5\u001b[0m \u001b[0mprint\u001b[0m\u001b[0;34m(\u001b[0m\u001b[0marr\u001b[0m\u001b[0;34m)\u001b[0m\u001b[0;34m\u001b[0m\u001b[0;34m\u001b[0m\u001b[0m\n",
            "\u001b[0;31mValueError\u001b[0m: list.remove(x): x not in list"
          ]
        }
      ]
    },
    {
      "cell_type": "code",
      "source": [
        "# delete\n",
        "x=arr.pop()\n",
        "print(x)\n",
        "print(arr)\n",
        "print(arr.pop(1))\n",
        "print(arr)"
      ],
      "metadata": {
        "colab": {
          "base_uri": "https://localhost:8080/"
        },
        "id": "r3vB2ENfz0rc",
        "outputId": "d6d507fc-5b76-4d2b-c0f3-08b71214dbba"
      },
      "execution_count": 8,
      "outputs": [
        {
          "output_type": "stream",
          "name": "stdout",
          "text": [
            "2\n",
            "[1, 'python']\n",
            "python\n",
            "[1]\n"
          ]
        }
      ]
    },
    {
      "cell_type": "code",
      "source": [
        "arr.insert(1,'kajal')\n",
        "arr.remove('kajal')\n",
        "print(arr)"
      ],
      "metadata": {
        "colab": {
          "base_uri": "https://localhost:8080/"
        },
        "id": "rYrCUXbl05oC",
        "outputId": "c9bdce47-f5af-42df-9f9f-a7533ca7b9c5"
      },
      "execution_count": 33,
      "outputs": [
        {
          "output_type": "stream",
          "name": "stdout",
          "text": [
            "['python', 'kajal']\n"
          ]
        }
      ]
    },
    {
      "cell_type": "code",
      "source": [
        "arr1=[1,2,3,4,5,6,1000]\n",
        "print(max(arr1))\n",
        "print(min(arr1))"
      ],
      "metadata": {
        "colab": {
          "base_uri": "https://localhost:8080/"
        },
        "id": "uLhRe2nL11Mf",
        "outputId": "c984d57b-4f87-463b-b798-ffbfebff97f3"
      },
      "execution_count": 19,
      "outputs": [
        {
          "output_type": "stream",
          "name": "stdout",
          "text": [
            "1000\n",
            "1\n"
          ]
        }
      ]
    },
    {
      "cell_type": "code",
      "source": [
        "#reverse\n",
        "#arr1.reverse()\n",
        "#print(arr1)\n",
        "arr1.reverse()\n",
        "print(arr1[::-1])"
      ],
      "metadata": {
        "colab": {
          "base_uri": "https://localhost:8080/"
        },
        "id": "Rdl3M1Ui2vyd",
        "outputId": "d0ca70e1-71ea-4a45-c4b2-c05d0473edca"
      },
      "execution_count": 24,
      "outputs": [
        {
          "output_type": "stream",
          "name": "stdout",
          "text": [
            "[1000, 6, 5, 4, 3, 2, 1]\n"
          ]
        }
      ]
    },
    {
      "cell_type": "code",
      "source": [
        "#count\n",
        "arr1=[1,2,3,3,2,1,1,1,3,3,3,3]\n",
        "print(arr1.count(3))"
      ],
      "metadata": {
        "colab": {
          "base_uri": "https://localhost:8080/"
        },
        "id": "KjOyoU7P3T60",
        "outputId": "bd336e3d-9a46-4712-8804-0b25b5b52792"
      },
      "execution_count": 27,
      "outputs": [
        {
          "output_type": "stream",
          "name": "stdout",
          "text": [
            "6\n"
          ]
        }
      ]
    },
    {
      "cell_type": "code",
      "source": [
        "arr1=[0,1,-1,123,-12234,1000,23]\n",
        "arr1.sort()\n",
        "print(arr1)"
      ],
      "metadata": {
        "colab": {
          "base_uri": "https://localhost:8080/"
        },
        "id": "yqE2ablq4jFb",
        "outputId": "131b77e5-7357-4efe-99c5-eb46c9b07e0a"
      },
      "execution_count": 28,
      "outputs": [
        {
          "output_type": "stream",
          "name": "stdout",
          "text": [
            "[-12234, -1, 0, 1, 23, 123, 1000]\n"
          ]
        }
      ]
    },
    {
      "cell_type": "code",
      "source": [
        "arr1=[0,1,-1,123,-12234,1000,23]\n",
        "arr1.sort(reverse=True)\n",
        "print(arr1)"
      ],
      "metadata": {
        "colab": {
          "base_uri": "https://localhost:8080/"
        },
        "id": "NTM27Siz5lO1",
        "outputId": "d7f53a99-1cb4-489f-b50d-e34d369ddfd4"
      },
      "execution_count": 29,
      "outputs": [
        {
          "output_type": "stream",
          "name": "stdout",
          "text": [
            "[1000, 123, 23, 1, 0, -1, -12234]\n"
          ]
        }
      ]
    },
    {
      "cell_type": "code",
      "source": [
        "#extend\n",
        "arr1=[1,2,3]\n",
        "arr1.extend([4,5,6,7,8,9,12,1000,47586,457389789])\n",
        "print(arr1)\n"
      ],
      "metadata": {
        "colab": {
          "base_uri": "https://localhost:8080/"
        },
        "id": "7yt7HtsP53rr",
        "outputId": "b6ba1cb9-f0ad-494e-dcae-86fa02c4b289"
      },
      "execution_count": 31,
      "outputs": [
        {
          "output_type": "stream",
          "name": "stdout",
          "text": [
            "[1, 2, 3, 4, 5, 6, 7, 8, 9, 12, 1000, 47586, 457389789]\n"
          ]
        }
      ]
    },
    {
      "cell_type": "code",
      "source": [],
      "metadata": {
        "id": "K-aG8zqx7Sur"
      },
      "execution_count": null,
      "outputs": []
    }
  ]
}