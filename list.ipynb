{
  "nbformat": 4,
  "nbformat_minor": 0,
  "metadata": {
    "colab": {
      "provenance": [],
      "authorship_tag": "ABX9TyMOI/e162BYsuktqVeuEDmW",
      "include_colab_link": true
    },
    "kernelspec": {
      "name": "python3",
      "display_name": "Python 3"
    },
    "language_info": {
      "name": "python"
    }
  },
  "cells": [
    {
      "cell_type": "markdown",
      "metadata": {
        "id": "view-in-github",
        "colab_type": "text"
      },
      "source": [
        "<a href=\"https://colab.research.google.com/github/kajalpandey110/digipodium-data-analytic/blob/main/list.ipynb\" target=\"_parent\"><img src=\"https://colab.research.google.com/assets/colab-badge.svg\" alt=\"Open In Colab\"/></a>"
      ]
    },
    {
      "cell_type": "code",
      "execution_count": 2,
      "metadata": {
        "id": "RgRv64c3myh_"
      },
      "outputs": [],
      "source": [
        "# list of strings\n",
        "list1=[\"niklesh\",\"aman\",\"rahul\",\"devansh\",\"rishabh\"]\n",
        "\n",
        "# list of numbers\n",
        "list2=[1,2,3,4,5,15,25,100]\n",
        "\n",
        "#mixed data list\n",
        "list3=['ravi',90,102,93,29,44,\"B\",False,5.786]\n",
        "\n",
        "#nested list\n",
        "list4=[[1,2,3],[3,4,5,7],[2,1]]"
      ]
    },
    {
      "cell_type": "code",
      "source": [
        "L=[10,20,30,40,50,60,70,80,90,100]\n",
        "sliceL=L[-7:-2]\n",
        "print(sliceL)"
      ],
      "metadata": {
        "colab": {
          "base_uri": "https://localhost:8080/"
        },
        "id": "p3ur2mbhxKHt",
        "outputId": "29a3885c-3126-42ed-fe38-faaf0d2f4f59"
      },
      "execution_count": 8,
      "outputs": [
        {
          "output_type": "stream",
          "name": "stdout",
          "text": [
            "[40, 50, 60, 70, 80]\n"
          ]
        }
      ]
    },
    {
      "cell_type": "code",
      "source": [
        "L=[10,20,30,40,50,60,70,80,90,100]\n",
        "slice1=l[5:]\n",
        "slice2=l[5:len(L)]\n",
        "print(slice1)\n",
        "print(slice2)"
      ],
      "metadata": {
        "colab": {
          "base_uri": "https://localhost:8080/"
        },
        "id": "cvcuufMezBgW",
        "outputId": "09e9e172-6437-4978-ba9b-7b1625502e3f"
      },
      "execution_count": 20,
      "outputs": [
        {
          "output_type": "stream",
          "name": "stdout",
          "text": [
            "[60, 70, 80, 90, 100]\n",
            "[60, 70, 80, 90, 100]\n"
          ]
        }
      ]
    },
    {
      "cell_type": "code",
      "source": [
        "list1=[1,2,3,'a','b']\n",
        "#append\n",
        "list1.append('c')\n",
        "list1.append('d')\n",
        "print(list1)"
      ],
      "metadata": {
        "colab": {
          "base_uri": "https://localhost:8080/"
        },
        "id": "eyL0_2ku0ZIf",
        "outputId": "adf1f966-0e95-4b0c-c87c-0a03e9b03e78"
      },
      "execution_count": 22,
      "outputs": [
        {
          "output_type": "stream",
          "name": "stdout",
          "text": [
            "[1, 2, 3, 'a', 'b', 'c', 'd']\n"
          ]
        }
      ]
    },
    {
      "cell_type": "code",
      "source": [
        "list1.insert(4,'e')\n",
        "print(list1)"
      ],
      "metadata": {
        "colab": {
          "base_uri": "https://localhost:8080/"
        },
        "id": "cor6bCht3Kuz",
        "outputId": "3235896c-990d-4824-864d-5dc28319ec09"
      },
      "execution_count": 25,
      "outputs": [
        {
          "output_type": "stream",
          "name": "stdout",
          "text": [
            "['e', 1, 'e', 2, 'e', 3, 'a', 'b', 'c', 'd']\n"
          ]
        }
      ]
    },
    {
      "cell_type": "code",
      "source": [],
      "metadata": {
        "id": "P2K-Mmfz3q-X"
      },
      "execution_count": null,
      "outputs": []
    }
  ]
}