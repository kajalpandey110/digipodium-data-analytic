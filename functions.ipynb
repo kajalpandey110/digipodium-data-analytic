{
  "nbformat": 4,
  "nbformat_minor": 0,
  "metadata": {
    "colab": {
      "provenance": [],
      "authorship_tag": "ABX9TyM+olfYIunP6BHIWS/u12+n",
      "include_colab_link": true
    },
    "kernelspec": {
      "name": "python3",
      "display_name": "Python 3"
    },
    "language_info": {
      "name": "python"
    }
  },
  "cells": [
    {
      "cell_type": "markdown",
      "metadata": {
        "id": "view-in-github",
        "colab_type": "text"
      },
      "source": [
        "<a href=\"https://colab.research.google.com/github/kajalpandey110/digipodium-data-analytic/blob/main/functions.ipynb\" target=\"_parent\"><img src=\"https://colab.research.google.com/assets/colab-badge.svg\" alt=\"Open In Colab\"/></a>"
      ]
    },
    {
      "cell_type": "code",
      "execution_count": 1,
      "metadata": {
        "id": "fUOndXh_WkZ2"
      },
      "outputs": [],
      "source": [
        "#function definition\n",
        "def pythagoras(base,perpendicular):\n",
        "  return(base**2+ perpendicular**2)**0.5"
      ]
    },
    {
      "cell_type": "code",
      "source": [
        "#function calling\n",
        "pythagoras(3,4)"
      ],
      "metadata": {
        "colab": {
          "base_uri": "https://localhost:8080/",
          "height": 0
        },
        "id": "nAMjq98aXELE",
        "outputId": "e21d21f4-64ad-4532-950b-565431ad24e8"
      },
      "execution_count": 2,
      "outputs": [
        {
          "output_type": "execute_result",
          "data": {
            "text/plain": [
              "5.0"
            ]
          },
          "metadata": {},
          "execution_count": 2
        }
      ]
    },
    {
      "cell_type": "code",
      "source": [
        "pythagoras(10,9)"
      ],
      "metadata": {
        "colab": {
          "base_uri": "https://localhost:8080/",
          "height": 0
        },
        "id": "E5xYJp78XMmJ",
        "outputId": "bb6a4325-4c30-4c6d-bfb0-89390b7ea99b"
      },
      "execution_count": 6,
      "outputs": [
        {
          "output_type": "execute_result",
          "data": {
            "text/plain": [
              "13.45362404707371"
            ]
          },
          "metadata": {},
          "execution_count": 6
        }
      ]
    },
    {
      "cell_type": "code",
      "source": [
        "pythagoras(perpendicular=2,base=10)"
      ],
      "metadata": {
        "colab": {
          "base_uri": "https://localhost:8080/",
          "height": 0
        },
        "id": "kolRgFshXdgX",
        "outputId": "6f9134fc-6ed7-4081-de09-60e7995ecb45"
      },
      "execution_count": 7,
      "outputs": [
        {
          "output_type": "execute_result",
          "data": {
            "text/plain": [
              "10.198039027185569"
            ]
          },
          "metadata": {},
          "execution_count": 7
        }
      ]
    },
    {
      "cell_type": "code",
      "source": [],
      "metadata": {
        "id": "Vmr40tzxZIcD"
      },
      "execution_count": null,
      "outputs": []
    },
    {
      "cell_type": "markdown",
      "source": [
        "f(x)=x^2+2x+1\n",
        "f(2)=9\n",
        "f(15)=256\n",
        "g(x,y)=x^2+2xy+y^2\n",
        "g(2,3)=25"
      ],
      "metadata": {
        "id": "0Nc3kwk8ZYg0"
      }
    },
    {
      "cell_type": "code",
      "source": [],
      "metadata": {
        "id": "NRYXiIAPaVOt"
      },
      "execution_count": null,
      "outputs": []
    },
    {
      "cell_type": "markdown",
      "source": [
        "lambda expressions-for making anonymous functions(1 line functions)"
      ],
      "metadata": {
        "id": "7xWgZqxVaceZ"
      }
    },
    {
      "cell_type": "code",
      "source": [
        "f=lambda x:x**2+2*x+1\n",
        "print(f(2))\n",
        "print(f(3))\n",
        "print(f(10))\n",
        "print(f(15))"
      ],
      "metadata": {
        "colab": {
          "base_uri": "https://localhost:8080/",
          "height": 0
        },
        "id": "tBLJKPkkancN",
        "outputId": "6b06ab4f-6834-4325-964e-e86940b0c1f7"
      },
      "execution_count": 8,
      "outputs": [
        {
          "output_type": "stream",
          "name": "stdout",
          "text": [
            "9\n",
            "16\n",
            "121\n",
            "256\n"
          ]
        }
      ]
    },
    {
      "cell_type": "code",
      "source": [
        "g=lambda x,y:x**2+2*x*y+y**2\n",
        "print(g(2,3))\n",
        "print(g(3,4))"
      ],
      "metadata": {
        "colab": {
          "base_uri": "https://localhost:8080/",
          "height": 0
        },
        "id": "mG1A75NVa5KF",
        "outputId": "6f471c33-cbd4-47e9-be8e-c62b3d3aff44"
      },
      "execution_count": 9,
      "outputs": [
        {
          "output_type": "stream",
          "name": "stdout",
          "text": [
            "25\n",
            "49\n"
          ]
        }
      ]
    },
    {
      "cell_type": "code",
      "source": [
        "h=lambda p,b:(p**2+b**2)**0.5\n",
        "print(h(3,4))"
      ],
      "metadata": {
        "colab": {
          "base_uri": "https://localhost:8080/",
          "height": 0
        },
        "id": "29nXQsf5bJVk",
        "outputId": "8b0ec5f0-c5de-437b-f31a-683fbbed03b8"
      },
      "execution_count": 20,
      "outputs": [
        {
          "output_type": "stream",
          "name": "stdout",
          "text": [
            "5.0\n"
          ]
        }
      ]
    },
    {
      "cell_type": "code",
      "source": [
        "#what is the amount after 16% discount on 12000\n",
        "12000*(1 - .16)"
      ],
      "metadata": {
        "colab": {
          "base_uri": "https://localhost:8080/",
          "height": 0
        },
        "id": "xWIwxz-Qb4eY",
        "outputId": "652e4ee5-911d-4d26-e6d1-c08aae94c8ed"
      },
      "execution_count": 21,
      "outputs": [
        {
          "output_type": "execute_result",
          "data": {
            "text/plain": [
              "10080.0"
            ]
          },
          "metadata": {},
          "execution_count": 21
        }
      ]
    },
    {
      "cell_type": "code",
      "source": [
        "prices=[10000,30000,12999,50000,43999,10500]\n",
        "\n",
        "ans=[]\n",
        "for i in range(len(prices)):\n",
        "  var=prices[i]*(1- .16)\n",
        "  #print(var)\n",
        "  ans.append(var)\n",
        "print(ans)\n",
        "\n"
      ],
      "metadata": {
        "colab": {
          "base_uri": "https://localhost:8080/",
          "height": 0
        },
        "id": "2VpIgR2ZdU-q",
        "outputId": "0b1d8466-dafd-4658-84d1-969f37f70edb"
      },
      "execution_count": 29,
      "outputs": [
        {
          "output_type": "stream",
          "name": "stdout",
          "text": [
            "[8400.0, 25200.0, 10919.16, 42000.0, 36959.159999999996, 8820.0]\n"
          ]
        }
      ]
    },
    {
      "cell_type": "code",
      "source": [
        "prices=[10000,30000,12999,50000,43999,10500]\n",
        "dis_prices=[]\n",
        "for price in prices:\n",
        "    ans= price*(1 -.16)\n",
        "    dis_prices.append(ans)\n",
        "\n",
        "print(prices)\n",
        "print(dis_prices)"
      ],
      "metadata": {
        "colab": {
          "base_uri": "https://localhost:8080/"
        },
        "id": "bIynBDJJdlt2",
        "outputId": "2c7f307f-4eb0-4d25-b398-6d8421b8f581"
      },
      "execution_count": 35,
      "outputs": [
        {
          "output_type": "stream",
          "name": "stdout",
          "text": [
            "[10000, 30000, 12999, 50000, 43999, 10500]\n",
            "[8400.0, 25200.0, 10919.16, 42000.0, 36959.159999999996, 8820.0]\n"
          ]
        }
      ]
    },
    {
      "cell_type": "code",
      "source": [
        "dis_price=list(map(lambda p:p*(1 - .16),prices))\n",
        "print(dis_price)"
      ],
      "metadata": {
        "colab": {
          "base_uri": "https://localhost:8080/"
        },
        "id": "umKJhLGdgbNz",
        "outputId": "3d3dcc10-f6ca-4272-904b-e4357539b873"
      },
      "execution_count": 39,
      "outputs": [
        {
          "output_type": "stream",
          "name": "stdout",
          "text": [
            "[8400.0, 25200.0, 10919.16, 42000.0, 36959.159999999996, 8820.0]\n"
          ]
        }
      ]
    },
    {
      "cell_type": "code",
      "source": [
        "x=[1,2,4,6,7,5,8,21]\n",
        "square=list(map(lambda y:y**2,x))\n",
        "print(square)"
      ],
      "metadata": {
        "id": "qzOt_aoijbNY"
      },
      "execution_count": null,
      "outputs": []
    },
    {
      "cell_type": "code",
      "source": [
        "\n"
      ],
      "metadata": {
        "id": "1OB3OC-Ekjp3"
      },
      "execution_count": null,
      "outputs": []
    }
  ]
}