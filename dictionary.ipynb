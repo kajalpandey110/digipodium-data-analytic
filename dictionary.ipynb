{
  "nbformat": 4,
  "nbformat_minor": 0,
  "metadata": {
    "colab": {
      "provenance": [],
      "authorship_tag": "ABX9TyPiYDiGA3oirzFN2kuOy3Mv",
      "include_colab_link": true
    },
    "kernelspec": {
      "name": "python3",
      "display_name": "Python 3"
    },
    "language_info": {
      "name": "python"
    }
  },
  "cells": [
    {
      "cell_type": "markdown",
      "metadata": {
        "id": "view-in-github",
        "colab_type": "text"
      },
      "source": [
        "<a href=\"https://colab.research.google.com/github/kajalpandey110/digipodium-data-analytic/blob/main/dictionary.ipynb\" target=\"_parent\"><img src=\"https://colab.research.google.com/assets/colab-badge.svg\" alt=\"Open In Colab\"/></a>"
      ]
    },
    {
      "cell_type": "code",
      "execution_count": 1,
      "metadata": {
        "id": "cFx5hoFMM8W8"
      },
      "outputs": [],
      "source": [
        "lbs_info={\n",
        "    'full name':\"lal bahadur shastri college\",\n",
        "    'short name':'lbs',\n",
        "    'students':440,\n",
        "    'culture':'mood kharab bachhe'\n",
        "}"
      ]
    },
    {
      "cell_type": "code",
      "source": [
        "movies={\n",
        "    'suryavansham':{\n",
        "        'relayed on':'sony max',\n",
        "        'plot':'rich father does not like his illiterate son',\n",
        "        'rating':10\n",
        "    },\n",
        "    'ghajini':{\n",
        "        'plot':'rich person forgets everything after 15 minutes',\n",
        "        'rating':10,\n",
        "        'streamed on':'jio cinema'\n",
        "    },\n",
        "    '3 idiots':{\n",
        "       'plot':'3 friends in college',\n",
        "       'rating':9,\n",
        "       'streamed on':'max'\n",
        "    },\n",
        "    'singham':{\n",
        "        'plot':'action film ',\n",
        "        'rating':10,\n",
        "        'streamed on':'star gold'\n",
        "    },\n",
        "    'kise ka bhai kise ki jaan':{\n",
        "    'plot':'brother love',\n",
        "    'rating':4,\n",
        "    'streamed on':'mx player'\n",
        "    }\n",
        "}"
      ],
      "metadata": {
        "id": "7dfiUXXFOYX8"
      },
      "execution_count": 6,
      "outputs": []
    },
    {
      "cell_type": "code",
      "source": [],
      "metadata": {
        "id": "vyBAhwHcSIcz"
      },
      "execution_count": null,
      "outputs": []
    },
    {
      "cell_type": "markdown",
      "source": [
        "#adding data\n",
        "syntax\n",
        "'''dict[key]=value'''"
      ],
      "metadata": {
        "id": "EeDDAqFlTi6L"
      }
    },
    {
      "cell_type": "code",
      "source": [
        "movies['ghajini']"
      ],
      "metadata": {
        "colab": {
          "base_uri": "https://localhost:8080/"
        },
        "id": "rzzVsM9ETqfV",
        "outputId": "770a65fe-8d99-4500-f155-8053b016b4e5"
      },
      "execution_count": 7,
      "outputs": [
        {
          "output_type": "execute_result",
          "data": {
            "text/plain": [
              "{'plot': 'rich person forgets everything after 15 minutes',\n",
              " 'rating': 10,\n",
              " 'streamed on': 'jio cinema'}"
            ]
          },
          "metadata": {},
          "execution_count": 7
        }
      ]
    },
    {
      "cell_type": "code",
      "source": [
        "movies['3 idiots']['plot']"
      ],
      "metadata": {
        "colab": {
          "base_uri": "https://localhost:8080/",
          "height": 36
        },
        "id": "mez3rMF8T0Gj",
        "outputId": "1e0346da-2ee0-455a-e679-0f8890af3f4b"
      },
      "execution_count": 8,
      "outputs": [
        {
          "output_type": "execute_result",
          "data": {
            "text/plain": [
              "'3 friends in college'"
            ],
            "application/vnd.google.colaboratory.intrinsic+json": {
              "type": "string"
            }
          },
          "metadata": {},
          "execution_count": 8
        }
      ]
    },
    {
      "cell_type": "code",
      "source": [
        "list(movies.keys())"
      ],
      "metadata": {
        "colab": {
          "base_uri": "https://localhost:8080/"
        },
        "id": "k4HdH8j0VLV5",
        "outputId": "9d9a35ce-e47f-4740-eda1-aa135b4e978d"
      },
      "execution_count": 9,
      "outputs": [
        {
          "output_type": "execute_result",
          "data": {
            "text/plain": [
              "['suryavansham', 'ghajini', '3 idiots', 'singham', 'kise ka bhai kise ki jaan']"
            ]
          },
          "metadata": {},
          "execution_count": 9
        }
      ]
    },
    {
      "cell_type": "code",
      "source": [
        "list(movies.values())"
      ],
      "metadata": {
        "colab": {
          "base_uri": "https://localhost:8080/"
        },
        "id": "phr06S2AVTTV",
        "outputId": "3d2becef-a049-4b08-95eb-4239d6eb68da"
      },
      "execution_count": 10,
      "outputs": [
        {
          "output_type": "execute_result",
          "data": {
            "text/plain": [
              "[{'relayed on': 'sony max',\n",
              "  'plot': 'rich father does not like his illiterate son',\n",
              "  'rating': 10},\n",
              " {'plot': 'rich person forgets everything after 15 minutes',\n",
              "  'rating': 10,\n",
              "  'streamed on': 'jio cinema'},\n",
              " {'plot': '3 friends in college', 'rating': 9, 'streamed on': 'max'},\n",
              " {'plot': 'action film ', 'rating': 10, 'streamed on': 'star gold'},\n",
              " {'plot': 'brother love', 'rating': 4, 'streamed on': 'mx player'}]"
            ]
          },
          "metadata": {},
          "execution_count": 10
        }
      ]
    },
    {
      "cell_type": "code",
      "source": [
        "movies.items()"
      ],
      "metadata": {
        "colab": {
          "base_uri": "https://localhost:8080/"
        },
        "id": "DmxiDZ0_VYTI",
        "outputId": "010e39d7-67b7-4aad-dcb7-d4cd86c84081"
      },
      "execution_count": 11,
      "outputs": [
        {
          "output_type": "execute_result",
          "data": {
            "text/plain": [
              "dict_items([('suryavansham', {'relayed on': 'sony max', 'plot': 'rich father does not like his illiterate son', 'rating': 10}), ('ghajini', {'plot': 'rich person forgets everything after 15 minutes', 'rating': 10, 'streamed on': 'jio cinema'}), ('3 idiots', {'plot': '3 friends in college', 'rating': 9, 'streamed on': 'max'}), ('singham', {'plot': 'action film ', 'rating': 10, 'streamed on': 'star gold'}), ('kise ka bhai kise ki jaan', {'plot': 'brother love', 'rating': 4, 'streamed on': 'mx player'})])"
            ]
          },
          "metadata": {},
          "execution_count": 11
        }
      ]
    },
    {
      "cell_type": "code",
      "source": [
        "for title,details in movies.items():\n",
        "  print(title.upper())\n",
        "  for entry,value in details.items():\n",
        "    print(f'{entry:15}|{value}')\n",
        "  print()"
      ],
      "metadata": {
        "colab": {
          "base_uri": "https://localhost:8080/"
        },
        "id": "_E94RaYnVd3x",
        "outputId": "87357259-277d-428f-9955-3852a7a6cd23"
      },
      "execution_count": 17,
      "outputs": [
        {
          "output_type": "stream",
          "name": "stdout",
          "text": [
            "SURYAVANSHAM\n",
            "relayed on     |sony max\n",
            "plot           |rich father does not like his illiterate son\n",
            "rating         |10\n",
            "\n",
            "GHAJINI\n",
            "plot           |rich person forgets everything after 15 minutes\n",
            "rating         |10\n",
            "streamed on    |jio cinema\n",
            "\n",
            "3 IDIOTS\n",
            "plot           |3 friends in college\n",
            "rating         |9\n",
            "streamed on    |max\n",
            "\n",
            "SINGHAM\n",
            "plot           |action film \n",
            "rating         |10\n",
            "streamed on    |star gold\n",
            "\n",
            "KISE KA BHAI KISE KI JAAN\n",
            "plot           |brother love\n",
            "rating         |4\n",
            "streamed on    |mx player\n",
            "\n"
          ]
        }
      ]
    },
    {
      "cell_type": "code",
      "source": [
        "movies.pop('ghajini')\n",
        "print(movies)"
      ],
      "metadata": {
        "colab": {
          "base_uri": "https://localhost:8080/"
        },
        "id": "Nd7i7GdKV-FZ",
        "outputId": "f06cfabf-e2a9-42d2-a55c-181523214d5e"
      },
      "execution_count": 18,
      "outputs": [
        {
          "output_type": "stream",
          "name": "stdout",
          "text": [
            "{'suryavansham': {'relayed on': 'sony max', 'plot': 'rich father does not like his illiterate son', 'rating': 10}, '3 idiots': {'plot': '3 friends in college', 'rating': 9, 'streamed on': 'max'}, 'singham': {'plot': 'action film ', 'rating': 10, 'streamed on': 'star gold'}, 'kise ka bhai kise ki jaan': {'plot': 'brother love', 'rating': 4, 'streamed on': 'mx player'}}\n"
          ]
        }
      ]
    },
    {
      "cell_type": "code",
      "source": [],
      "metadata": {
        "id": "byhcGONEXRVX"
      },
      "execution_count": null,
      "outputs": []
    }
  ]
}