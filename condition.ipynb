{
  "nbformat": 4,
  "nbformat_minor": 0,
  "metadata": {
    "colab": {
      "provenance": [],
      "authorship_tag": "ABX9TyPJstFKcViYnazfSk0nVzzS",
      "include_colab_link": true
    },
    "kernelspec": {
      "name": "python3",
      "display_name": "Python 3"
    },
    "language_info": {
      "name": "python"
    }
  },
  "cells": [
    {
      "cell_type": "markdown",
      "metadata": {
        "id": "view-in-github",
        "colab_type": "text"
      },
      "source": [
        "<a href=\"https://colab.research.google.com/github/kajalpandey110/digipodium-data-analytic/blob/main/condition.ipynb\" target=\"_parent\"><img src=\"https://colab.research.google.com/assets/colab-badge.svg\" alt=\"Open In Colab\"/></a>"
      ]
    },
    {
      "cell_type": "code",
      "execution_count": null,
      "metadata": {
        "colab": {
          "base_uri": "https://localhost:8080/"
        },
        "id": "6lF6VrDx6UOD",
        "outputId": "89d05ba3-8251-455d-f26c-d8617665a94a"
      },
      "outputs": [
        {
          "output_type": "stream",
          "name": "stdout",
          "text": [
            "x is greater than 10\n"
          ]
        }
      ],
      "source": [
        "x=100\n",
        "if x>10:\n",
        "  print(\"x is greater than 10\")"
      ]
    },
    {
      "cell_type": "code",
      "source": [
        "name='william shakespeare'\n",
        "'will'in name"
      ],
      "metadata": {
        "colab": {
          "base_uri": "https://localhost:8080/"
        },
        "id": "gbwuyJqR6lqD",
        "outputId": "30e750e0-820b-4d59-ff86-57aaac47be4a"
      },
      "execution_count": null,
      "outputs": [
        {
          "output_type": "execute_result",
          "data": {
            "text/plain": [
              "True"
            ]
          },
          "metadata": {},
          "execution_count": 3
        }
      ]
    },
    {
      "cell_type": "code",
      "source": [
        "if'spear'in name:\n",
        "  print('spear found in name')"
      ],
      "metadata": {
        "colab": {
          "base_uri": "https://localhost:8080/"
        },
        "id": "0rqyLKzO8kFI",
        "outputId": "0e5376e6-7ca8-443e-8819-30cd8ff523e8"
      },
      "execution_count": null,
      "outputs": [
        {
          "output_type": "stream",
          "name": "stdout",
          "text": [
            "spear found in name\n"
          ]
        }
      ]
    },
    {
      "cell_type": "code",
      "source": [
        "age=int(input('what is your age:'))\n",
        "if age>=18:\n",
        "  print('you are an adult')\n",
        "  print('you can vote')\n",
        "else:\n",
        "  print('you are a child')\n",
        "  print('you cannot vote')\n",
        "  print('you can vote in',18-age,'years')"
      ],
      "metadata": {
        "colab": {
          "base_uri": "https://localhost:8080/"
        },
        "id": "98Q8xdWt85uk",
        "outputId": "19dd9929-1ec7-4707-da21-5f7f02cc4d35"
      },
      "execution_count": null,
      "outputs": [
        {
          "output_type": "stream",
          "name": "stdout",
          "text": [
            "what is your age:15\n",
            "you are a child\n",
            "you cannot vote\n",
            "you can vote in 3 years\n"
          ]
        }
      ]
    },
    {
      "cell_type": "code",
      "source": [
        "#if elif else ladder\n",
        "print('welcome to the ice cream shop')\n",
        "flavour=input('what flavour do you want?')\n",
        "if flavour=='vanilla':\n",
        "  print('here is your vanilla ice cream')\n",
        "elif flavour=='chcolate':\n",
        "  print('here is your chocolate ice cream')\n",
        "elif flavour=='strawberry':\n",
        "  print('here is your strawberry ice cream')\n",
        "elif flavour=='butterscotch':\n",
        "  print('here is your butterscotch ice cream')\n",
        "else:\n",
        "  print('sorry we do not have',flavour,'flavour')"
      ],
      "metadata": {
        "colab": {
          "base_uri": "https://localhost:8080/"
        },
        "id": "VZSi7nmq9s26",
        "outputId": "4276f288-1dd3-4412-92a8-a491e1c5a6ce"
      },
      "execution_count": null,
      "outputs": [
        {
          "output_type": "stream",
          "name": "stdout",
          "text": [
            "welcome to the ice cream shop\n",
            "what flavour do you want?mango\n",
            "sorry we do not have mango flavour\n"
          ]
        }
      ]
    },
    {
      "cell_type": "code",
      "source": [],
      "metadata": {
        "id": "al6ItvUHAzUt"
      },
      "execution_count": null,
      "outputs": []
    }
  ]
}